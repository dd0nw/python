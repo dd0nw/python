{
 "cells": [
  {
   "cell_type": "code",
   "execution_count": 1,
   "id": "f11d4118",
   "metadata": {},
   "outputs": [],
   "source": [
    "from selenium import webdriver as wb\n",
    "from selenium.webdriver.common.keys import Keys\n",
    "from selenium.webdriver.common.by import By\n",
    "from bs4 import BeautifulSoup as bs\n",
    "import pandas as pd\n",
    "import time"
   ]
  },
  {
   "cell_type": "code",
   "execution_count": 2,
   "id": "5b750ff0",
   "metadata": {},
   "outputs": [],
   "source": [
    "driver = wb.Chrome()\n",
    "driver.get('https://www.gmarket.co.kr/n/best')"
   ]
  },
  {
   "cell_type": "code",
   "execution_count": 3,
   "id": "184f82c6",
   "metadata": {},
   "outputs": [
    {
     "data": {
      "text/plain": [
       "[<selenium.webdriver.remote.webelement.WebElement (session=\"30dee1e4f0b9409a2a404a3499558f24\", element=\"f.748AD56D625651D3D432AB8244601075.d.8D44E8C67394F69D7F7695528BED5078.e.44\")>,\n",
       " <selenium.webdriver.remote.webelement.WebElement (session=\"30dee1e4f0b9409a2a404a3499558f24\", element=\"f.748AD56D625651D3D432AB8244601075.d.8D44E8C67394F69D7F7695528BED5078.e.38\")>,\n",
       " <selenium.webdriver.remote.webelement.WebElement (session=\"30dee1e4f0b9409a2a404a3499558f24\", element=\"f.748AD56D625651D3D432AB8244601075.d.8D44E8C67394F69D7F7695528BED5078.e.45\")>,\n",
       " <selenium.webdriver.remote.webelement.WebElement (session=\"30dee1e4f0b9409a2a404a3499558f24\", element=\"f.748AD56D625651D3D432AB8244601075.d.8D44E8C67394F69D7F7695528BED5078.e.46\")>,\n",
       " <selenium.webdriver.remote.webelement.WebElement (session=\"30dee1e4f0b9409a2a404a3499558f24\", element=\"f.748AD56D625651D3D432AB8244601075.d.8D44E8C67394F69D7F7695528BED5078.e.47\")>,\n",
       " <selenium.webdriver.remote.webelement.WebElement (session=\"30dee1e4f0b9409a2a404a3499558f24\", element=\"f.748AD56D625651D3D432AB8244601075.d.8D44E8C67394F69D7F7695528BED5078.e.39\")>,\n",
       " <selenium.webdriver.remote.webelement.WebElement (session=\"30dee1e4f0b9409a2a404a3499558f24\", element=\"f.748AD56D625651D3D432AB8244601075.d.8D44E8C67394F69D7F7695528BED5078.e.48\")>,\n",
       " <selenium.webdriver.remote.webelement.WebElement (session=\"30dee1e4f0b9409a2a404a3499558f24\", element=\"f.748AD56D625651D3D432AB8244601075.d.8D44E8C67394F69D7F7695528BED5078.e.49\")>,\n",
       " <selenium.webdriver.remote.webelement.WebElement (session=\"30dee1e4f0b9409a2a404a3499558f24\", element=\"f.748AD56D625651D3D432AB8244601075.d.8D44E8C67394F69D7F7695528BED5078.e.50\")>,\n",
       " <selenium.webdriver.remote.webelement.WebElement (session=\"30dee1e4f0b9409a2a404a3499558f24\", element=\"f.748AD56D625651D3D432AB8244601075.d.8D44E8C67394F69D7F7695528BED5078.e.51\")>,\n",
       " <selenium.webdriver.remote.webelement.WebElement (session=\"30dee1e4f0b9409a2a404a3499558f24\", element=\"f.748AD56D625651D3D432AB8244601075.d.8D44E8C67394F69D7F7695528BED5078.e.52\")>,\n",
       " <selenium.webdriver.remote.webelement.WebElement (session=\"30dee1e4f0b9409a2a404a3499558f24\", element=\"f.748AD56D625651D3D432AB8244601075.d.8D44E8C67394F69D7F7695528BED5078.e.53\")>,\n",
       " <selenium.webdriver.remote.webelement.WebElement (session=\"30dee1e4f0b9409a2a404a3499558f24\", element=\"f.748AD56D625651D3D432AB8244601075.d.8D44E8C67394F69D7F7695528BED5078.e.54\")>,\n",
       " <selenium.webdriver.remote.webelement.WebElement (session=\"30dee1e4f0b9409a2a404a3499558f24\", element=\"f.748AD56D625651D3D432AB8244601075.d.8D44E8C67394F69D7F7695528BED5078.e.55\")>,\n",
       " <selenium.webdriver.remote.webelement.WebElement (session=\"30dee1e4f0b9409a2a404a3499558f24\", element=\"f.748AD56D625651D3D432AB8244601075.d.8D44E8C67394F69D7F7695528BED5078.e.56\")>,\n",
       " <selenium.webdriver.remote.webelement.WebElement (session=\"30dee1e4f0b9409a2a404a3499558f24\", element=\"f.748AD56D625651D3D432AB8244601075.d.8D44E8C67394F69D7F7695528BED5078.e.57\")>,\n",
       " <selenium.webdriver.remote.webelement.WebElement (session=\"30dee1e4f0b9409a2a404a3499558f24\", element=\"f.748AD56D625651D3D432AB8244601075.d.8D44E8C67394F69D7F7695528BED5078.e.58\")>,\n",
       " <selenium.webdriver.remote.webelement.WebElement (session=\"30dee1e4f0b9409a2a404a3499558f24\", element=\"f.748AD56D625651D3D432AB8244601075.d.8D44E8C67394F69D7F7695528BED5078.e.59\")>,\n",
       " <selenium.webdriver.remote.webelement.WebElement (session=\"30dee1e4f0b9409a2a404a3499558f24\", element=\"f.748AD56D625651D3D432AB8244601075.d.8D44E8C67394F69D7F7695528BED5078.e.60\")>,\n",
       " <selenium.webdriver.remote.webelement.WebElement (session=\"30dee1e4f0b9409a2a404a3499558f24\", element=\"f.748AD56D625651D3D432AB8244601075.d.8D44E8C67394F69D7F7695528BED5078.e.61\")>]"
      ]
     },
     "execution_count": 3,
     "metadata": {},
     "output_type": "execute_result"
    }
   ],
   "source": [
    "# 클릭할 요소 가져오기\n",
    "img = driver.find_elements(By.CLASS_NAME, 'image__lazy.image__load')\n",
    "img"
   ]
  },
  {
   "cell_type": "code",
   "execution_count": 4,
   "id": "fbd57751",
   "metadata": {},
   "outputs": [],
   "source": [
    "# 해당 요소 클릭 !\n",
    "img[0].click()"
   ]
  },
  {
   "cell_type": "code",
   "execution_count": 5,
   "id": "51ffaee0",
   "metadata": {},
   "outputs": [],
   "source": [
    "# 카테고리, 상품명, 가격 수집 !\n",
    "cate = driver.find_element(By.CSS_SELECTOR, \n",
    "                           'div.location-navi > ul > li.on > a').text"
   ]
  },
  {
   "cell_type": "code",
   "execution_count": 6,
   "id": "dc9b2570",
   "metadata": {},
   "outputs": [],
   "source": [
    "cate = driver.find_element(By.CSS_SELECTOR, \n",
    "                           'div.location-navi > ul > li.on > a').text\n",
    "title = driver.find_element(By.CSS_SELECTOR, \n",
    "                           '#itemcase_basic > div.box__item-title > h1').text\n",
    "price = driver.find_element(By.CSS_SELECTOR, \n",
    "                           '#itemcase_basic > div.box__item-title > div.price > span:nth-child(2) > strong').text"
   ]
  },
  {
   "cell_type": "code",
   "execution_count": 7,
   "id": "27434230",
   "metadata": {},
   "outputs": [
    {
     "data": {
      "text/plain": [
       "('라운드넥티셔츠',\n",
       " '((단하루 10%+10%쿠폰)) 시크릿무드 역마진 파격SALE/바람막이/자켓/원피스/니트/팬츠 외 미시룩BEST',\n",
       " '9,900원')"
      ]
     },
     "execution_count": 7,
     "metadata": {},
     "output_type": "execute_result"
    }
   ],
   "source": [
    "cate, title, price"
   ]
  },
  {
   "cell_type": "code",
   "execution_count": 8,
   "id": "5e367bb4",
   "metadata": {},
   "outputs": [],
   "source": [
    "# 뒤로가기\n",
    "driver.back()"
   ]
  },
  {
   "cell_type": "code",
   "execution_count": 9,
   "id": "35740d09",
   "metadata": {},
   "outputs": [],
   "source": [
    "# img[1].click() 만 실행 할 경우 error\n",
    "# driver를 통해 웹브라우저에 명령을 내리기 위해서는, 현재 웹페이지 정보에서만 가능\n",
    "# 근데, 뒤로가기와 같은 페이지 새로고침이 일어날 경우, \n",
    "# 다시 웹페이지에 접근해서 요소에 접근해야함\n",
    "img = driver.find_elements(By.CLASS_NAME, 'image__lazy.image__load')\n",
    "img[1].click()"
   ]
  },
  {
   "cell_type": "markdown",
   "id": "64892545",
   "metadata": {},
   "source": [
    "### 실습! G마켓 Best  상품 Page에서 10ea의 상품 정보들을 스크래핑!\n",
    "1. 크롬 브라우저 실행, url 요청(G마켓 Best 상품 Page)\n",
    "2. 상품 클릭\n",
    "3. 수집(카테고리, 가격, 상품명) 및 추출\n",
    "4. 뒤로가기\n",
    "5. 2~4 단계 반복\n",
    "6. DataFrame화"
   ]
  },
  {
   "cell_type": "code",
   "execution_count": 12,
   "id": "3189b616",
   "metadata": {},
   "outputs": [
    {
     "data": {
      "text/html": [
       "<div>\n",
       "<style scoped>\n",
       "    .dataframe tbody tr th:only-of-type {\n",
       "        vertical-align: middle;\n",
       "    }\n",
       "\n",
       "    .dataframe tbody tr th {\n",
       "        vertical-align: top;\n",
       "    }\n",
       "\n",
       "    .dataframe thead th {\n",
       "        text-align: right;\n",
       "    }\n",
       "</style>\n",
       "<table border=\"1\" class=\"dataframe\">\n",
       "  <thead>\n",
       "    <tr style=\"text-align: right;\">\n",
       "      <th></th>\n",
       "      <th>카테고리</th>\n",
       "      <th>상품명</th>\n",
       "      <th>가격</th>\n",
       "    </tr>\n",
       "  </thead>\n",
       "  <tbody>\n",
       "    <tr>\n",
       "      <th>0</th>\n",
       "      <td>라운드넥티셔츠</td>\n",
       "      <td>((단하루 10%+10%쿠폰)) 시크릿무드 역마진 파격SALE/바람막이/자켓/원피스...</td>\n",
       "      <td>9,900원</td>\n",
       "    </tr>\n",
       "    <tr>\n",
       "      <th>1</th>\n",
       "      <td>패밀리레스토랑</td>\n",
       "      <td>(빕스) 15 000원 스프링 바우처 / 3월 19일부터 사용가능</td>\n",
       "      <td>1,500원</td>\n",
       "    </tr>\n",
       "    <tr>\n",
       "      <th>2</th>\n",
       "      <td>바디케어</td>\n",
       "      <td>온더바디 발을씻자 코튼풋샴푸 자몽향 385ml 4개</td>\n",
       "      <td>19,900원</td>\n",
       "    </tr>\n",
       "    <tr>\n",
       "      <th>3</th>\n",
       "      <td>런닝세트</td>\n",
       "      <td>(무료반품/9950원/5매)트라이 스탠다드 베이직 남성 5번들 런닝 무료배송 (10...</td>\n",
       "      <td>11,700원</td>\n",
       "    </tr>\n",
       "    <tr>\n",
       "      <th>4</th>\n",
       "      <td>기타생활잡화</td>\n",
       "      <td>2개 헤드앤숄더 클리니컬 스트렝스 비듬방지 샴푸 3종 초록 보라 주황 400ml</td>\n",
       "      <td>30,570원</td>\n",
       "    </tr>\n",
       "    <tr>\n",
       "      <th>5</th>\n",
       "      <td>전복</td>\n",
       "      <td>더줌 전복 11-13미 1kg 쿠폰가 23700</td>\n",
       "      <td>39,500원</td>\n",
       "    </tr>\n",
       "    <tr>\n",
       "      <th>6</th>\n",
       "      <td>초등참고서</td>\n",
       "      <td>키즈 원리셈/ 원리셈 세트</td>\n",
       "      <td>41,310원</td>\n",
       "    </tr>\n",
       "    <tr>\n",
       "      <th>7</th>\n",
       "      <td>유아동티셔츠</td>\n",
       "      <td>10+5%쿠폰할인/24봄신상 신학기 한정수량 단독특가/가디건/상하복/원피스 외 1개...</td>\n",
       "      <td>10,900원</td>\n",
       "    </tr>\n",
       "    <tr>\n",
       "      <th>8</th>\n",
       "      <td>찌개/찜</td>\n",
       "      <td>G)사미헌 갈비탕5팩 (1팩1kg총 5kg)</td>\n",
       "      <td>56,550원</td>\n",
       "    </tr>\n",
       "    <tr>\n",
       "      <th>9</th>\n",
       "      <td>기타수산가공식품</td>\n",
       "      <td>착한낙지 매콤~칼칼 착한낙지 135g x 6팩+비법소스 6팩</td>\n",
       "      <td>23,920원</td>\n",
       "    </tr>\n",
       "  </tbody>\n",
       "</table>\n",
       "</div>"
      ],
      "text/plain": [
       "       카테고리                                                상품명       가격\n",
       "0   라운드넥티셔츠  ((단하루 10%+10%쿠폰)) 시크릿무드 역마진 파격SALE/바람막이/자켓/원피스...   9,900원\n",
       "1   패밀리레스토랑               (빕스) 15 000원 스프링 바우처 / 3월 19일부터 사용가능   1,500원\n",
       "2      바디케어                       온더바디 발을씻자 코튼풋샴푸 자몽향 385ml 4개  19,900원\n",
       "3      런닝세트  (무료반품/9950원/5매)트라이 스탠다드 베이직 남성 5번들 런닝 무료배송 (10...  11,700원\n",
       "4    기타생활잡화       2개 헤드앤숄더 클리니컬 스트렝스 비듬방지 샴푸 3종 초록 보라 주황 400ml  30,570원\n",
       "5        전복                         더줌 전복 11-13미 1kg 쿠폰가 23700  39,500원\n",
       "6     초등참고서                                     키즈 원리셈/ 원리셈 세트  41,310원\n",
       "7    유아동티셔츠  10+5%쿠폰할인/24봄신상 신학기 한정수량 단독특가/가디건/상하복/원피스 외 1개...  10,900원\n",
       "8      찌개/찜                           G)사미헌 갈비탕5팩 (1팩1kg총 5kg)  56,550원\n",
       "9  기타수산가공식품                  착한낙지 매콤~칼칼 착한낙지 135g x 6팩+비법소스 6팩  23,920원"
      ]
     },
     "execution_count": 12,
     "metadata": {},
     "output_type": "execute_result"
    }
   ],
   "source": [
    "from selenium import webdriver as wb\n",
    "from selenium.webdriver.common.keys import Keys\n",
    "from selenium.webdriver.common.by import By\n",
    "from bs4 import BeautifulSoup as bs\n",
    "import pandas as pd\n",
    "import time\n",
    "\n",
    "driver = wb.Chrome()\n",
    "driver.get('https://www.gmarket.co.kr/n/best')\n",
    "\n",
    "cate_list=[]\n",
    "title_list=[]\n",
    "price_list=[]\n",
    "\n",
    "for i in range(10):\n",
    "    img = driver.find_elements(By.CLASS_NAME, 'image__lazy.image__load')\n",
    "    img[i].click()\n",
    "    cate = driver.find_element(By.CSS_SELECTOR, \n",
    "                           'div.location-navi > ul > li.on > a').text\n",
    "    title = driver.find_element(By.CSS_SELECTOR, \n",
    "                           '#itemcase_basic > div.box__item-title > h1').text\n",
    "    price = driver.find_element(By.CSS_SELECTOR, \n",
    "                           '#itemcase_basic > div.box__item-title > div.price > span:nth-child(2) > strong').text\n",
    "    \n",
    "    cate_list.append(cate)\n",
    "    title_list.append(title)\n",
    "    price_list.append(price)\n",
    "    \n",
    "    driver.back()\n",
    "\n",
    "driver.quit()\n",
    "    \n",
    "\n",
    "dic = {'카테고리' : cate_list, '상품명' : title_list, '가격' : price_list}\n",
    "gmarket=pd.DataFrame(dic)\n",
    "gmarket"
   ]
  },
  {
   "cell_type": "code",
   "execution_count": 13,
   "id": "465b1a3f",
   "metadata": {
    "collapsed": true
   },
   "outputs": [
    {
     "name": "stdout",
     "output_type": "stream",
     "text": [
      "Collecting webdriver-manager\n",
      "  Obtaining dependency information for webdriver-manager from https://files.pythonhosted.org/packages/b1/51/b5c11cf739ac4eecde611794a0ec9df420d0239d51e73bc19eb44f02b48b/webdriver_manager-4.0.1-py2.py3-none-any.whl.metadata\n",
      "  Downloading webdriver_manager-4.0.1-py2.py3-none-any.whl.metadata (12 kB)\n",
      "Requirement already satisfied: requests in c:\\users\\smhrd\\anaconda3\\lib\\site-packages (from webdriver-manager) (2.31.0)\n",
      "Requirement already satisfied: python-dotenv in c:\\users\\smhrd\\anaconda3\\lib\\site-packages (from webdriver-manager) (0.21.0)\n",
      "Requirement already satisfied: packaging in c:\\users\\smhrd\\anaconda3\\lib\\site-packages (from webdriver-manager) (23.1)\n",
      "Requirement already satisfied: charset-normalizer<4,>=2 in c:\\users\\smhrd\\anaconda3\\lib\\site-packages (from requests->webdriver-manager) (2.0.4)\n",
      "Requirement already satisfied: idna<4,>=2.5 in c:\\users\\smhrd\\anaconda3\\lib\\site-packages (from requests->webdriver-manager) (2.10)\n",
      "Requirement already satisfied: urllib3<3,>=1.21.1 in c:\\users\\smhrd\\anaconda3\\lib\\site-packages (from requests->webdriver-manager) (1.26.16)\n",
      "Requirement already satisfied: certifi>=2017.4.17 in c:\\users\\smhrd\\anaconda3\\lib\\site-packages (from requests->webdriver-manager) (2023.7.22)\n",
      "Downloading webdriver_manager-4.0.1-py2.py3-none-any.whl (27 kB)\n",
      "Installing collected packages: webdriver-manager\n",
      "Successfully installed webdriver-manager-4.0.1\n"
     ]
    }
   ],
   "source": [
    "!pip install webdriver-manager"
   ]
  },
  {
   "cell_type": "code",
   "execution_count": 22,
   "id": "d605eb91",
   "metadata": {},
   "outputs": [],
   "source": [
    "from selenium.webdriver.chrome.service import Service # 경로 반환\n",
    "from webdriver_manager.chrome import ChromeDriverManager # 크롬 드라이버 관리자\n",
    "\n",
    "from selenium import webdriver as wb\n",
    "from selenium.webdriver.common.keys import Keys\n",
    "from selenium.webdriver.common.by import By\n",
    "from bs4 import BeautifulSoup as bs\n",
    "import pandas as pd\n",
    "import time\n",
    "\n",
    "from tqdm import tqdm as tq # 반복문 시각화하는 도구"
   ]
  },
  {
   "cell_type": "code",
   "execution_count": 23,
   "id": "74205b9a",
   "metadata": {},
   "outputs": [],
   "source": [
    "# 1. 크롬 브라우저 실행, url 요청(G마켓 Best 상품 Page)\n",
    "s = Service(ChromeDriverManager().install())\n",
    "driver = wb.Chrome(service=s)\n",
    "driver.get('https://www.gmarket.co.kr/n/best')"
   ]
  },
  {
   "cell_type": "code",
   "execution_count": 24,
   "id": "1ba2fce9",
   "metadata": {},
   "outputs": [
    {
     "name": "stderr",
     "output_type": "stream",
     "text": [
      " 70%|█████████████████████████████████████████████████████████▍                        | 35/50 [01:33<00:39,  2.66s/it]\n"
     ]
    },
    {
     "ename": "IndexError",
     "evalue": "list index out of range",
     "output_type": "error",
     "traceback": [
      "\u001b[1;31m---------------------------------------------------------------------------\u001b[0m",
      "\u001b[1;31mIndexError\u001b[0m                                Traceback (most recent call last)",
      "Cell \u001b[1;32mIn[24], line 8\u001b[0m\n\u001b[0;32m      5\u001b[0m \u001b[38;5;28;01mfor\u001b[39;00m i \u001b[38;5;129;01min\u001b[39;00m tq(\u001b[38;5;28mrange\u001b[39m(\u001b[38;5;241m50\u001b[39m)):\n\u001b[0;32m      6\u001b[0m     \u001b[38;5;66;03m# 2. 상품 클릭\u001b[39;00m\n\u001b[0;32m      7\u001b[0m     img \u001b[38;5;241m=\u001b[39m driver\u001b[38;5;241m.\u001b[39mfind_elements(By\u001b[38;5;241m.\u001b[39mCLASS_NAME, \u001b[38;5;124m'\u001b[39m\u001b[38;5;124mimage__lazy.image__load\u001b[39m\u001b[38;5;124m'\u001b[39m)\n\u001b[1;32m----> 8\u001b[0m     img[i]\u001b[38;5;241m.\u001b[39mclick()\n\u001b[0;32m     10\u001b[0m     \u001b[38;5;66;03m# 3. 수집(상품명, 가격, 카테고리) 및 추출\u001b[39;00m\n\u001b[0;32m     12\u001b[0m     cate \u001b[38;5;241m=\u001b[39m driver\u001b[38;5;241m.\u001b[39mfind_element(By\u001b[38;5;241m.\u001b[39mCSS_SELECTOR, \n\u001b[0;32m     13\u001b[0m                        \u001b[38;5;124m'\u001b[39m\u001b[38;5;124mdiv.location-navi > ul > li.on > a\u001b[39m\u001b[38;5;124m'\u001b[39m)\u001b[38;5;241m.\u001b[39mtext\n",
      "\u001b[1;31mIndexError\u001b[0m: list index out of range"
     ]
    }
   ],
   "source": [
    "cate_list=[]\n",
    "title_list=[]\n",
    "price_list=[]\n",
    "\n",
    "for i in tq(range(50)):\n",
    "    # 2. 상품 클릭\n",
    "    img = driver.find_elements(By.CLASS_NAME, 'image__lazy.image__load')\n",
    "    img[i].click()\n",
    "    \n",
    "    time.sleep(1) # 요소가 load 될 때까지 로직 멈추기\n",
    "\n",
    "    # 3. 수집(상품명, 가격, 카테고리) 및 추출\n",
    "\n",
    "    cate = driver.find_element(By.CSS_SELECTOR, \n",
    "                       'div.location-navi > ul > li.on > a').text\n",
    "    title = driver.find_element(By.CSS_SELECTOR, \n",
    "                       '#itemcase_basic > div.box__item-title > h1').text\n",
    "    price = driver.find_element(By.CSS_SELECTOR, \n",
    "                       '#itemcase_basic > div.box__item-title > div.price > span:nth-child(2) > strong').text\n",
    "\n",
    "    # 추출 후 list에 하나씩 쌓기!\n",
    "    cate_list.append(cate)\n",
    "    title_list.append(title)\n",
    "    price_list.append(price)\n",
    "    \n",
    "    \n",
    "    # 4. 뒤로가기\n",
    "    driver.back()\n",
    "    time.sleep(1) # 요소가 load 될 때까지 로직 멈추기\n",
    "    \n",
    "driver.quit()\n",
    "\n",
    "dic = {'카테고리' : cate_list, '상품명' : title_list, '가격' : price_list}\n",
    "df=pd.DataFrame(dic)\n",
    "df"
   ]
  },
  {
   "cell_type": "code",
   "execution_count": 31,
   "id": "46e888ab",
   "metadata": {},
   "outputs": [],
   "source": [
    "# csv 형식으로 저장!\n",
    "# time.strftime(\"%Y%m%d_%H%M%S\")\n",
    "# 현재 시점을 기준으로 연도, 월, 일, 시, 분, 초 문자열으로 반환!\n",
    "gmarket.to_csv(f\"{time.strftime('%Y%m%d_%H%M%S')} G마켓 Bestsell Top 10.csv\", encoding='utf-8')"
   ]
  },
  {
   "cell_type": "code",
   "execution_count": 28,
   "id": "b23b335b",
   "metadata": {},
   "outputs": [
    {
     "data": {
      "text/plain": [
       "'20240319_154308'"
      ]
     },
     "execution_count": 28,
     "metadata": {},
     "output_type": "execute_result"
    }
   ],
   "source": [
    "time.strftime(\"%Y%m%d_%H%M%S\")"
   ]
  },
  {
   "cell_type": "code",
   "execution_count": null,
   "id": "ffa8d521",
   "metadata": {},
   "outputs": [],
   "source": []
  }
 ],
 "metadata": {
  "kernelspec": {
   "display_name": "Python 3 (ipykernel)",
   "language": "python",
   "name": "python3"
  },
  "language_info": {
   "codemirror_mode": {
    "name": "ipython",
    "version": 3
   },
   "file_extension": ".py",
   "mimetype": "text/x-python",
   "name": "python",
   "nbconvert_exporter": "python",
   "pygments_lexer": "ipython3",
   "version": "3.11.5"
  }
 },
 "nbformat": 4,
 "nbformat_minor": 5
}
