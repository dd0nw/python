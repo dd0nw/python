{
 "cells": [
  {
   "cell_type": "markdown",
   "id": "2fabbadd",
   "metadata": {},
   "source": [
    "### selenium 라이브러리 불러오기\n",
    " - 웹페이지를 제어하기 위한 라이브러리"
   ]
  },
  {
   "cell_type": "code",
   "execution_count": 1,
   "id": "551c6f78",
   "metadata": {
    "collapsed": true
   },
   "outputs": [
    {
     "name": "stdout",
     "output_type": "stream",
     "text": [
      "Requirement already satisfied: selenium in c:\\users\\smhrd\\anaconda3\\lib\\site-packages (4.18.1)\n",
      "Requirement already satisfied: urllib3[socks]<3,>=1.26 in c:\\users\\smhrd\\anaconda3\\lib\\site-packages (from selenium) (1.26.16)\n",
      "Requirement already satisfied: trio~=0.17 in c:\\users\\smhrd\\anaconda3\\lib\\site-packages (from selenium) (0.24.0)\n",
      "Requirement already satisfied: trio-websocket~=0.9 in c:\\users\\smhrd\\anaconda3\\lib\\site-packages (from selenium) (0.11.1)\n",
      "Requirement already satisfied: certifi>=2021.10.8 in c:\\users\\smhrd\\anaconda3\\lib\\site-packages (from selenium) (2023.7.22)\n",
      "Requirement already satisfied: typing_extensions>=4.9.0 in c:\\users\\smhrd\\anaconda3\\lib\\site-packages (from selenium) (4.10.0)\n",
      "Requirement already satisfied: attrs>=20.1.0 in c:\\users\\smhrd\\anaconda3\\lib\\site-packages (from trio~=0.17->selenium) (22.1.0)\n",
      "Requirement already satisfied: sortedcontainers in c:\\users\\smhrd\\anaconda3\\lib\\site-packages (from trio~=0.17->selenium) (2.4.0)\n",
      "Requirement already satisfied: idna in c:\\users\\smhrd\\anaconda3\\lib\\site-packages (from trio~=0.17->selenium) (2.10)\n",
      "Requirement already satisfied: outcome in c:\\users\\smhrd\\anaconda3\\lib\\site-packages (from trio~=0.17->selenium) (1.3.0.post0)\n",
      "Requirement already satisfied: sniffio>=1.3.0 in c:\\users\\smhrd\\anaconda3\\lib\\site-packages (from trio~=0.17->selenium) (1.3.1)\n",
      "Requirement already satisfied: cffi>=1.14 in c:\\users\\smhrd\\anaconda3\\lib\\site-packages (from trio~=0.17->selenium) (1.15.1)\n",
      "Requirement already satisfied: wsproto>=0.14 in c:\\users\\smhrd\\anaconda3\\lib\\site-packages (from trio-websocket~=0.9->selenium) (1.2.0)\n",
      "Requirement already satisfied: PySocks!=1.5.7,<2.0,>=1.5.6 in c:\\users\\smhrd\\anaconda3\\lib\\site-packages (from urllib3[socks]<3,>=1.26->selenium) (1.7.1)\n",
      "Requirement already satisfied: pycparser in c:\\users\\smhrd\\anaconda3\\lib\\site-packages (from cffi>=1.14->trio~=0.17->selenium) (2.21)\n",
      "Requirement already satisfied: h11<1,>=0.9.0 in c:\\users\\smhrd\\anaconda3\\lib\\site-packages (from wsproto>=0.14->trio-websocket~=0.9->selenium) (0.14.0)\n"
     ]
    }
   ],
   "source": [
    "# 기본으로 내장된 라이브러리가 아니므로 설치해줘야 한다\n",
    "!pip install selenium"
   ]
  },
  {
   "cell_type": "code",
   "execution_count": 5,
   "id": "13f01f25",
   "metadata": {},
   "outputs": [],
   "source": [
    "from selenium import webdriver as wb\n",
    "# webdriver -> 웹 브라우저를 제어하기 위한 라이브러리\n",
    "from selenium.webdriver.common.keys import Keys\n",
    "# Keys -> 웹을 통해서 값을 \"입력\"하기 위한 라이브러리 -> 컴퓨터용 키보드\n",
    "from selenium.webdriver.common.by import By\n",
    "# By -> html 문서에서 태그선택자를 찾기 위한 라이브러리"
   ]
  },
  {
   "cell_type": "markdown",
   "id": "00be289b",
   "metadata": {},
   "source": [
    "#### selenium 환경설정\n",
    " - 사용자가 사용하는 드라이버와 컴퓨터가 사용하는 드라이버가 구분되어 있기 때문에\n",
    " - 크롬 드라이버를 최신버전으로 업데이트 해줘야 정상적으로 실행이 가능하다"
   ]
  },
  {
   "cell_type": "code",
   "execution_count": 6,
   "id": "03845420",
   "metadata": {},
   "outputs": [],
   "source": [
    "# 크롬 버전확인\n",
    "# 우측 상단 점 3개 버튼(케밥바) -> 설정 -> 좌측 하단의 chrome 정보 클릭 -> 버전(122)확인\n",
    "# 크롬 드라이버 최신버전 업데이트 방법\n",
    "# 구글에 '크롬 드라이버' 검색\n",
    "# 사용 중인 크롬 버전과 일치하는 드라이버를 크롤링 폴더에 다운로드"
   ]
  },
  {
   "cell_type": "code",
   "execution_count": 12,
   "id": "1319c554",
   "metadata": {},
   "outputs": [],
   "source": [
    "# 크롬 드라이버 실행\n",
    "driver = wb.Chrome()\n",
    "# driver 라는 변수가 페이지의 모든 정보를 가지게 된다.\n",
    "\n",
    "# 주소를 알려주지 않아서 빈 창이 떴다.\n",
    "# requests에서 사용했던 get 메소드를 사용해서 페이지의 url 입력\n",
    "driver.get('https://www.naver.com/')"
   ]
  },
  {
   "cell_type": "code",
   "execution_count": 13,
   "id": "1a69c5bb",
   "metadata": {},
   "outputs": [
    {
     "data": {
      "text/plain": [
       "<selenium.webdriver.remote.webelement.WebElement (session=\"dd03b1a4856f103c49f05982b598893c\", element=\"f.6D432D1DA7B5AAD82F7FFD8F8E3546B2.d.3346C8043C3E6BF8907969B445A50DAA.e.4\")>"
      ]
     },
     "execution_count": 13,
     "metadata": {},
     "output_type": "execute_result"
    }
   ],
   "source": [
    "# 검색창 위치 찾기 --> 위치? >> 태그\n",
    "driver.find_element(By.ID, 'query')"
   ]
  },
  {
   "cell_type": "code",
   "execution_count": 15,
   "id": "41cebeb6",
   "metadata": {},
   "outputs": [],
   "source": [
    "search = driver.find_element(By.ID, 'query') # 검색창의 위치를 변수에 집어넣어줬다."
   ]
  },
  {
   "cell_type": "code",
   "execution_count": 16,
   "id": "beaf67e5",
   "metadata": {},
   "outputs": [],
   "source": [
    "# 검색어 입력하기\n",
    "# search -> 검색창의 위치\n",
    "# send_keys('단어') -> '단어'라는 키워드를 전송\n",
    "search.send_keys('아이유 배경화면')"
   ]
  },
  {
   "cell_type": "code",
   "execution_count": 17,
   "id": "c45dd1c9",
   "metadata": {},
   "outputs": [
    {
     "data": {
      "text/plain": [
       "<selenium.webdriver.remote.webelement.WebElement (session=\"dd03b1a4856f103c49f05982b598893c\", element=\"f.6D432D1DA7B5AAD82F7FFD8F8E3546B2.d.3346C8043C3E6BF8907969B445A50DAA.e.82\")>"
      ]
     },
     "execution_count": 17,
     "metadata": {},
     "output_type": "execute_result"
    }
   ],
   "source": [
    "# 검색 버튼 클릭!\n",
    "driver.find_element(By.ID, 'search-btn')"
   ]
  },
  {
   "cell_type": "code",
   "execution_count": 19,
   "id": "6b8dd229",
   "metadata": {},
   "outputs": [],
   "source": [
    "# 검색버튼 클릭!\n",
    "btn = driver.find_element(By.ID, 'search-btn')\n",
    "btn.click()"
   ]
  },
  {
   "cell_type": "code",
   "execution_count": 20,
   "id": "7d3a27d4",
   "metadata": {},
   "outputs": [],
   "source": [
    "driver.back() # 크롬창 뒤로 가기"
   ]
  },
  {
   "cell_type": "code",
   "execution_count": 22,
   "id": "7d13db1f",
   "metadata": {},
   "outputs": [],
   "source": [
    "# 엔터\n",
    "search = driver.find_element(By.ID, 'query')\n",
    "search.send_keys('저메추')\n",
    "# -> 키보드에 있는 ENTER 기능 사용\n",
    "# -> search.send_keys(Keys.ENTER) --> 키보드에 있는 ENTER 기능을 실행해주세요\n",
    "# -> search.send_keys('ENTER') --> 검색창에 ENTER라는 글자를 전송해주세요\n",
    "search.send_keys(Keys.ENTER)"
   ]
  },
  {
   "cell_type": "code",
   "execution_count": 23,
   "id": "7ef3d68b",
   "metadata": {},
   "outputs": [],
   "source": [
    "# 검색끝 ~ 이제 크롬창 종료\n",
    "driver.quit()\n",
    "# quit() : 크롬창 전체 종료\n",
    "# close : 크롬창 탭 하나만 종료"
   ]
  },
  {
   "cell_type": "code",
   "execution_count": null,
   "id": "be19f33a",
   "metadata": {},
   "outputs": [],
   "source": []
  }
 ],
 "metadata": {
  "kernelspec": {
   "display_name": "Python 3 (ipykernel)",
   "language": "python",
   "name": "python3"
  },
  "language_info": {
   "codemirror_mode": {
    "name": "ipython",
    "version": 3
   },
   "file_extension": ".py",
   "mimetype": "text/x-python",
   "name": "python",
   "nbconvert_exporter": "python",
   "pygments_lexer": "ipython3",
   "version": "3.11.5"
  }
 },
 "nbformat": 4,
 "nbformat_minor": 5
}
